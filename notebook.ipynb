{
  "cells": [
    {
      "cell_type": "markdown",
      "metadata": {
        "id": "ft8A9FPV3iTy"
      },
      "source": [
        "# Setup and Run Batchlinks\n"
      ]
    },
    {
      "cell_type": "code",
      "execution_count": null,
      "metadata": {
        "cellView": "form",
        "id": "UwpnyYKM32bA"
      },
      "outputs": [],
      "source": [
        "#@title Install and run\n",
        "\n",
        "!pip install gradio==3.16.2\n",
        "!git clone https://github.com/etherealxx/batchlinks-webui /content/sdw/extensions/batchlinks-webui\n",
        "!python /content/sdw/extensions/batchlinks-webui/scripts/batchlinks-downloader.py"
      ]
    },
    {
      "cell_type": "code",
      "execution_count": null,
      "metadata": {
        "cellView": "form",
        "id": "ugIxCR6C4Heg"
      },
      "outputs": [],
      "source": [
        "#@title Run\n",
        "\n",
        "!python /content/sdw/extensions/batchlinks-webui/scripts/batchlinks-downloader.py"
      ]
    },
    {
      "attachments": {},
      "cell_type": "markdown",
      "metadata": {
        "id": "l_lpzB4fbmDZ"
      },
      "source": [
        "# Uploading to HuggingFace\n",
        "\n",
        "Cells ~copied~ forked from [NoCrypt's Colab Remastered](https://colab.research.google.com/drive/1wEa-tS10h4LlDykd87TF5zzpXIIQoCmq#scrollTo=EzbWAsEc2bAt)"
      ]
    },
    {
      "cell_type": "code",
      "execution_count": null,
      "metadata": {
        "cellView": "form",
        "id": "2Mc0BHmRcNlF"
      },
      "outputs": [],
      "source": [
        "#@title 1. Login to Huggingface hub\n",
        "try:\n",
        "  hub_ok\n",
        "except:\n",
        "  print(\"Setting up huggingface_hub...\")\n",
        "  !pip install --force-reinstall -qqqq huggingface_hub\n",
        "  hub_ok = True\n",
        "from IPython.display import clear_output\n",
        "from huggingface_hub import login\n",
        "clear_output()\n",
        "\n",
        "#@markdown 1. Of course, you need a Huggingface account first.\n",
        "#@markdown 2. To create a huggingface token, go to [this link](https://huggingface.co/settings/tokens), then `create new token` or copy available token with the `Write` role.\n",
        "\n",
        "write_token = \"\" #@param {type:\"string\"}\n",
        "login(write_token, add_to_git_credential=True)"
      ]
    },
    {
      "cell_type": "code",
      "execution_count": null,
      "metadata": {
        "cellView": "form",
        "id": "6cO3Eks_cau5"
      },
      "outputs": [],
      "source": [
        "#@title 2. Setup Repo\n",
        "from huggingface_hub.utils import validate_repo_id, HfHubHTTPError\n",
        "from huggingface_hub import HfApi\n",
        "\n",
        "api = HfApi()\n",
        "user = api.whoami(write_token)\n",
        "\n",
        "#@markdown #### If your model repo didn't exist, it will automatically create your repo.\n",
        "repo_name = \"my-model-repo\" #@param{type:\"string\"}\n",
        "make_this_repo_private_if_not_exist = True #@param{type:\"boolean\"}\n",
        "\n",
        "if \"/\" in repo_name:\n",
        "  model_repo = repo_name.strip()\n",
        "else:\n",
        "  model_repo = user['name']+\"/\"+repo_name.strip()\n",
        "\n",
        "validate_repo_id(model_repo)\n",
        "\n",
        "if repo_name != \"\":\n",
        "  try:\n",
        "      api.create_repo(repo_id=model_repo, \n",
        "                      private=make_this_repo_private_if_not_exist)\n",
        "      print(\"Model Repo didn't exists, creating repo\")\n",
        "      print(\"Model Repo: \",model_repo,\"created!\\n\")\n",
        "\n",
        "  except HfHubHTTPError as e:\n",
        "      print(f\"Model Repo: {model_repo} exists, skipping create repo\\n\")"
      ]
    },
    {
      "cell_type": "code",
      "execution_count": null,
      "metadata": {
        "cellView": "form",
        "id": "y1AN228rdFW-"
      },
      "outputs": [],
      "source": [
        "#@title 3.2 Upload via huggingface_hub (Manual way)\n",
        "\n",
        "#@markdown All paths for easier access:<br>\n",
        "#@markdown /content/sdw/models/Stable-diffusion<br>\n",
        "#@markdown /content/sdw/models/VAE<br>\n",
        "#@markdown /content/sdw/models/Lora<br>\n",
        "#@markdown /content/sdw/embeddings<br>\n",
        "#@markdown /content/sdw/models/hypernetwork<br>\n",
        "\n",
        "from huggingface_hub import HfApi\n",
        "from pathlib import Path\n",
        "\n",
        "api = HfApi()\n",
        "file_path = \"/content/my-awesome-model.safetensors\" #@param {type :\"string\"}\n",
        "#@markdown Leave this blank if you just want to upload it to the repo, dont leave a trailing \"`/`\" at the end!\n",
        "path_in_repo = \"\" #@param {type :\"string\"}\n",
        "#@markdown Leaving this blank auto fill the commit message with a generic one\n",
        "commit_message = \"\" #@param {type :\"string\"}\n",
        "\n",
        "if file_path != \"\":\n",
        "  path_obj = Path(file_path)\n",
        "  model = path_obj.parts[-1]\n",
        "\n",
        "  if path_in_repo == \"\":\n",
        "    trained_model = model\n",
        "  else: \n",
        "    trained_model = path_in_repo.strip() + \"/\" + model\n",
        "\n",
        "  print(f\"Uploading {model} to https://huggingface.co/\"+model_repo)\n",
        "  print(f\"Please wait...\")\n",
        "\n",
        "  if commit_message == \"\":\n",
        "    commit_message = f\"Upload {model}\"\n",
        "\n",
        "  api.upload_file(\n",
        "      path_or_fileobj=file_path,\n",
        "      path_in_repo=trained_model,\n",
        "      repo_id=model_repo,\n",
        "      commit_message=commit_message,\n",
        "  )\n",
        "  \n",
        "  print(f\"Upload success, located at https://huggingface.co/\"+model_repo+\"/blob/main/\"+trained_model+\"\\n\")"
      ]
    }
  ],
  "metadata": {
    "colab": {
      "collapsed_sections": [
        "ft8A9FPV3iTy"
      ],
      "provenance": []
    },
    "gpuClass": "standard",
    "kernelspec": {
      "display_name": "Python 3",
      "name": "python3"
    },
    "language_info": {
      "name": "python"
    }
  },
  "nbformat": 4,
  "nbformat_minor": 0
}
